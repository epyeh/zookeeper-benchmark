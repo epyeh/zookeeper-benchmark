{
 "cells": [
  {
   "cell_type": "code",
   "execution_count": 1,
   "metadata": {},
   "outputs": [],
   "source": [
    "import utils\n",
    "import importlib\n",
    "importlib.reload(utils)\n",
    "from matplotlib import pyplot as plt\n",
    "import numpy as np\n",
    "import math\n",
    "import scipy as scipy\n",
    "import statistics"
   ]
  },
  {
   "cell_type": "code",
   "execution_count": 2,
   "metadata": {},
   "outputs": [],
   "source": [
    "outputDir = \"./results/\""
   ]
  },
  {
   "cell_type": "markdown",
   "metadata": {},
   "source": [
    "# READ"
   ]
  },
  {
   "cell_type": "code",
   "execution_count": 3,
   "metadata": {},
   "outputs": [
    {
     "name": "stdout",
     "output_type": "stream",
     "text": [
      "Average rate of READ.dat is: 13354.79875530233\n"
     ]
    }
   ],
   "source": [
    "rate_path = outputDir + \"READ.dat\"\n",
    "rate = utils.general_read(rate_path)\n",
    "rate = [x[1] for x in rate]\n",
    "print(\"Average rate of READ.dat is:\", statistics.mean(rate))"
   ]
  },
  {
   "cell_type": "markdown",
   "metadata": {},
   "source": [
    "# SETSINGLE"
   ]
  },
  {
   "cell_type": "code",
   "execution_count": 4,
   "metadata": {},
   "outputs": [
    {
     "ename": "FileNotFoundError",
     "evalue": "[Errno 2] No such file or directory: './results/SETSINGLE.dat'",
     "output_type": "error",
     "traceback": [
      "\u001b[0;31m---------------------------------------------------------------------------\u001b[0m",
      "\u001b[0;31mFileNotFoundError\u001b[0m                         Traceback (most recent call last)",
      "\u001b[0;32m<ipython-input-4-99921f76ae54>\u001b[0m in \u001b[0;36m<module>\u001b[0;34m\u001b[0m\n\u001b[1;32m      1\u001b[0m \u001b[0mrate_path\u001b[0m \u001b[0;34m=\u001b[0m \u001b[0moutputDir\u001b[0m \u001b[0;34m+\u001b[0m \u001b[0;34m\"SETSINGLE.dat\"\u001b[0m\u001b[0;34m\u001b[0m\u001b[0;34m\u001b[0m\u001b[0m\n\u001b[0;32m----> 2\u001b[0;31m \u001b[0mrate\u001b[0m \u001b[0;34m=\u001b[0m \u001b[0mutils\u001b[0m\u001b[0;34m.\u001b[0m\u001b[0mgeneral_read\u001b[0m\u001b[0;34m(\u001b[0m\u001b[0mrate_path\u001b[0m\u001b[0;34m)\u001b[0m\u001b[0;34m\u001b[0m\u001b[0;34m\u001b[0m\u001b[0m\n\u001b[0m\u001b[1;32m      3\u001b[0m \u001b[0mrate\u001b[0m \u001b[0;34m=\u001b[0m \u001b[0;34m[\u001b[0m\u001b[0mx\u001b[0m\u001b[0;34m[\u001b[0m\u001b[0;36m1\u001b[0m\u001b[0;34m]\u001b[0m \u001b[0;32mfor\u001b[0m \u001b[0mx\u001b[0m \u001b[0;32min\u001b[0m \u001b[0mrate\u001b[0m\u001b[0;34m]\u001b[0m\u001b[0;34m\u001b[0m\u001b[0;34m\u001b[0m\u001b[0m\n\u001b[1;32m      4\u001b[0m \u001b[0mprint\u001b[0m\u001b[0;34m(\u001b[0m\u001b[0;34m\"Average rate of SETSINGLE.dat is:\"\u001b[0m\u001b[0;34m,\u001b[0m \u001b[0mstatistics\u001b[0m\u001b[0;34m.\u001b[0m\u001b[0mmean\u001b[0m\u001b[0;34m(\u001b[0m\u001b[0mrate\u001b[0m\u001b[0;34m)\u001b[0m\u001b[0;34m)\u001b[0m\u001b[0;34m\u001b[0m\u001b[0;34m\u001b[0m\u001b[0m\n",
      "\u001b[0;32m~/Desktop/Uni-stuff/Spring2021/CSE223/project/zookeeper-benchmark/utils.py\u001b[0m in \u001b[0;36mgeneral_read\u001b[0;34m(path)\u001b[0m\n\u001b[1;32m     23\u001b[0m '''\n\u001b[1;32m     24\u001b[0m \u001b[0;32mdef\u001b[0m \u001b[0mgeneral_read\u001b[0m\u001b[0;34m(\u001b[0m\u001b[0mpath\u001b[0m\u001b[0;34m)\u001b[0m\u001b[0;34m:\u001b[0m\u001b[0;34m\u001b[0m\u001b[0;34m\u001b[0m\u001b[0m\n\u001b[0;32m---> 25\u001b[0;31m     \u001b[0;32mwith\u001b[0m \u001b[0mopen\u001b[0m\u001b[0;34m(\u001b[0m\u001b[0mpath\u001b[0m\u001b[0;34m)\u001b[0m \u001b[0;32mas\u001b[0m \u001b[0mf\u001b[0m\u001b[0;34m:\u001b[0m\u001b[0;34m\u001b[0m\u001b[0;34m\u001b[0m\u001b[0m\n\u001b[0m\u001b[1;32m     26\u001b[0m         \u001b[0mlines\u001b[0m \u001b[0;34m=\u001b[0m \u001b[0mf\u001b[0m\u001b[0;34m.\u001b[0m\u001b[0mreadlines\u001b[0m\u001b[0;34m(\u001b[0m\u001b[0;34m)\u001b[0m\u001b[0;34m\u001b[0m\u001b[0;34m\u001b[0m\u001b[0m\n\u001b[1;32m     27\u001b[0m         \u001b[0mts\u001b[0m \u001b[0;34m=\u001b[0m \u001b[0;34m[\u001b[0m\u001b[0;34m[\u001b[0m\u001b[0mfloat\u001b[0m\u001b[0;34m(\u001b[0m\u001b[0ml\u001b[0m\u001b[0;34m.\u001b[0m\u001b[0mstrip\u001b[0m\u001b[0;34m(\u001b[0m\u001b[0;34m)\u001b[0m\u001b[0;34m.\u001b[0m\u001b[0msplit\u001b[0m\u001b[0;34m(\u001b[0m\u001b[0;34m' '\u001b[0m\u001b[0;34m)\u001b[0m\u001b[0;34m[\u001b[0m\u001b[0;36m0\u001b[0m\u001b[0;34m]\u001b[0m\u001b[0;34m)\u001b[0m\u001b[0;34m,\u001b[0m \u001b[0mfloat\u001b[0m\u001b[0;34m(\u001b[0m\u001b[0ml\u001b[0m\u001b[0;34m.\u001b[0m\u001b[0mstrip\u001b[0m\u001b[0;34m(\u001b[0m\u001b[0;34m)\u001b[0m\u001b[0;34m.\u001b[0m\u001b[0msplit\u001b[0m\u001b[0;34m(\u001b[0m\u001b[0;34m' '\u001b[0m\u001b[0;34m)\u001b[0m\u001b[0;34m[\u001b[0m\u001b[0;36m1\u001b[0m\u001b[0;34m]\u001b[0m\u001b[0;34m)\u001b[0m\u001b[0;34m]\u001b[0m \u001b[0;32mfor\u001b[0m \u001b[0ml\u001b[0m \u001b[0;32min\u001b[0m \u001b[0mlines\u001b[0m\u001b[0;34m]\u001b[0m\u001b[0;34m\u001b[0m\u001b[0;34m\u001b[0m\u001b[0m\n",
      "\u001b[0;31mFileNotFoundError\u001b[0m: [Errno 2] No such file or directory: './results/SETSINGLE.dat'"
     ]
    }
   ],
   "source": [
    "rate_path = outputDir + \"SETSINGLE.dat\"\n",
    "rate = utils.general_read(rate_path)\n",
    "rate = [x[1] for x in rate]\n",
    "print(\"Average rate of SETSINGLE.dat is:\", statistics.mean(rate))"
   ]
  },
  {
   "cell_type": "markdown",
   "metadata": {},
   "source": [
    "# MIXREADANDWRITE"
   ]
  },
  {
   "cell_type": "code",
   "execution_count": 5,
   "metadata": {},
   "outputs": [
    {
     "name": "stdout",
     "output_type": "stream",
     "text": [
      "Average rate of MIXREADWRITE-1.0.dat is: 15964.257432323328\n"
     ]
    }
   ],
   "source": [
    "rate_path = outputDir + \"MIXREADWRITE-1.0.dat\"\n",
    "rate = utils.general_read(rate_path)\n",
    "rate = [x[1] for x in rate]\n",
    "print(\"Average rate of MIXREADWRITE-1.0.dat is:\", statistics.mean(rate))\n",
    "\n",
    "# numReads = 0\n",
    "# totalNumOps = 0\n",
    "\n",
    "# for serverId in range(numServers):\n",
    "#     rw_path = outputDir + str(serverId) + \"-MIXREADWRITE1.0-read-write.dat\"\n",
    "#     reads, count = utils.get_num_reads(rw_path)\n",
    "#     numReads += reads\n",
    "#     totalNumOps += count\n",
    "# print(\"avg read percentage is: \", (numReads / totalNumOps) * 100)"
   ]
  },
  {
   "cell_type": "code",
   "execution_count": 6,
   "metadata": {},
   "outputs": [
    {
     "name": "stdout",
     "output_type": "stream",
     "text": [
      "Average rate of MIXREADWRITE-0.0.dat is: 5072.331010479985\n"
     ]
    }
   ],
   "source": [
    "rate_path = outputDir + \"MIXREADWRITE-0.0.dat\"\n",
    "rate = utils.general_read(rate_path)\n",
    "rate = [x[1] for x in rate]\n",
    "print(\"Average rate of MIXREADWRITE-0.0.dat is:\", statistics.mean(rate))\n",
    "\n",
    "# numReads = 0\n",
    "# totalNumOps = 0\n",
    "\n",
    "# for serverId in range(numServers):\n",
    "#     rw_path = outputDir + str(serverId) + \"-MIXREADWRITE0.0-read-write.dat\"\n",
    "#     reads, count = utils.get_num_reads(rw_path)\n",
    "#     numReads += reads\n",
    "#     totalNumOps += count\n",
    "# print(\"avg read percentage is: \", (numReads / totalNumOps) * 100)"
   ]
  },
  {
   "cell_type": "code",
   "execution_count": 7,
   "metadata": {},
   "outputs": [
    {
     "name": "stdout",
     "output_type": "stream",
     "text": [
      "Average rate of MIXREADWRITE-0.5.dat is: 5960.983596787163\n"
     ]
    }
   ],
   "source": [
    "rate_path = outputDir + \"MIXREADWRITE-0.5.dat\"\n",
    "rate = utils.general_read(rate_path)\n",
    "rate = [x[1] for x in rate]\n",
    "print(\"Average rate of MIXREADWRITE-0.5.dat is:\", statistics.mean(rate))\n",
    "\n",
    "# numReads = 0\n",
    "# totalNumOps = 0\n",
    "\n",
    "# for serverId in range(numServers):\n",
    "#     rw_path = outputDir + str(serverId) + \"-MIXREADWRITE0.5-read-write.dat\"\n",
    "#     reads, count = utils.get_num_reads(rw_path)\n",
    "#     numReads += reads\n",
    "#     totalNumOps += count\n",
    "# print(\"avg read percentage is: \", (numReads / totalNumOps) * 100)"
   ]
  },
  {
   "cell_type": "code",
   "execution_count": 8,
   "metadata": {},
   "outputs": [],
   "source": [
    "# rate_path = outputDir + \"MIXREADWRITE-0.25.dat\"\n",
    "# rate = utils.general_read(rate_path)\n",
    "# rate = [x[1] for x in rate]\n",
    "# print(\"Average rate of MIXREADWRITE-0.25.dat is:\", statistics.mean(rate))\n",
    "\n",
    "# numReads = 0\n",
    "# totalNumOps = 0\n",
    "\n",
    "# for serverId in range(numServers):\n",
    "#     rw_path = outputDir + str(serverId) + \"-MIXREADWRITE0.25-read-write.dat\"\n",
    "#     reads, count = utils.get_num_reads(rw_path)\n",
    "#     numReads += reads\n",
    "#     totalNumOps += count\n",
    "# print(\"avg read percentage is: \", (numReads / totalNumOps) * 100)"
   ]
  },
  {
   "cell_type": "markdown",
   "metadata": {},
   "source": [
    "## Mix read and write"
   ]
  },
  {
   "cell_type": "code",
   "execution_count": 9,
   "metadata": {},
   "outputs": [],
   "source": [
    "# for rw_percentage in range(0, 101, 5):\n",
    "#     print(rw_percentage)"
   ]
  },
  {
   "cell_type": "code",
   "execution_count": 16,
   "metadata": {},
   "outputs": [
    {
     "name": "stdout",
     "output_type": "stream",
     "text": [
      "(14, 2) 1.235695389\n",
      "(23, 2) 4.804821189\n",
      "(28, 2) 2.609589816\n",
      "(28, 2) 0.809813482\n",
      "(28, 2) 0.603487715\n",
      "(28, 2) 0.605802971\n",
      "(28, 2) 0.603800859\n",
      "(28, 2) 0.609556875\n",
      "(28, 2) 0.605127868\n",
      "(26, 2) 0.608852276\n",
      "(27, 2) 0.809009826\n",
      "[0.0, 0.1, 0.2, 0.3, 0.4, 0.5, 0.6, 0.7, 0.8, 0.9, 1.0]\n",
      "[5452.261821365847, 4136.080638014155, 2957.3187665306323, 3582.2882862869005, 3972.4491107045305, 4282.8578835253875, 6266.937105260472, 6046.144777289536, 7155.306926437775, 11758.27300133758, 15964.841141182284]\n",
      "len is: 11\n",
      "len is: 11\n"
     ]
    }
   ],
   "source": [
    "numServers = 3\n",
    "rw_increment = 5\n",
    "# readPercentages = {} # Keys are serverId, values are lists of read write percentage\n",
    "# rates = {} # Keys are serverId, values are lists of rates\n",
    "rates = [] # Rates. Index 0 is rate for 0% read. index 1 is rate for 5% read etc..\n",
    "# medianRate = []\n",
    "avgReadPercentage = [] # avg read percentages. Averaged over all 3 servers\n",
    "readPercentages = [0.0, 0.05, 0.1, 0.15, 0.2, 0.25, 0.3, 0.35, 0.4, 0.45, 0.5, 0.55, 0.6, 0.65, 0.7, 0.75, 0.8, 0.85, 0.9, 0.95, 1.0]\n",
    "readPercentagesTens = [0.0, 0.1, 0.2, 0.3, 0.4, 0.5, 0.6,  0.7,  0.8, 0.9, 1.0]\n",
    "for rw_percentage in readPercentagesTens:\n",
    "    \n",
    "    # Read percetnage calculation\n",
    "#     numReads = 0\n",
    "#     totalNumOps = 0\n",
    "#     for serverId in range(numServers):\n",
    "#         rw_path = outputDir + str(serverId) + \"-MIXREADWRITE\" + str(rw_percentage) + \"-read-write.dat\"\n",
    "#         reads, count = utils.get_num_reads(rw_path)\n",
    "#         numReads += reads\n",
    "#         totalNumOps += count\n",
    "# #         if serverId not in readPercentages:\n",
    "# #             readPercentages[serverId] = []\n",
    "# #         readPercentages[serverId].append(true_rw_percentage[0]) #[0] because we only want the read percentage and \n",
    "#                                                                 # not the write percentage\n",
    "    \n",
    "#     avg_read_percentage = (numReads / totalNumOps) * 100\n",
    "#     avgReadPercentage.append(avg_read_percentage)\n",
    "    \n",
    "    # Rates\n",
    "    rate_path = outputDir + \"MIXREADWRITE-\" +str(rw_percentage) + \".dat\"\n",
    "    rate = utils.general_read(rate_path)\n",
    "#     rate = rate[3:len(rate)-3]\n",
    "    rates.append(utils.avg_rate(rate, 3))\n",
    "#     medianRate.append(statistics.median([x[1] for x in rate]))\n",
    "    \n",
    "#     print(str(rw_percentage) + \" \" + str(rate) + \" \" + str(avgRate))\n",
    "#         print(str(serverId) + \" \" + str(rw_percentage) + \" \" + str(true_rw_percentage))\n",
    "        \n",
    "print(readPercentagesTens)\n",
    "print(rates)\n",
    "print(\"len is:\", len(readPercentagesTens))\n",
    "print(\"len is:\", len(rates))\n",
    "# print(medianRate)\n",
    "# print(avgReadPercentage)\n",
    "assert(len(rates) == len(readPercentagesTens))"
   ]
  },
  {
   "cell_type": "code",
   "execution_count": 12,
   "metadata": {},
   "outputs": [],
   "source": [
    "# avgReadPercentage = [y for y, _ in sorted(zip(avgReadPercentage, rates))]\n",
    "# rates = [x for _, x in sorted(zip(avgReadPercentage, rates))]\n",
    "# medianRate = [x for _, x in sorted(zip(medianRate, rates))]\n",
    "# print(avgReadPercentage)\n",
    "# print(rates)\n",
    "# print(medianRate)"
   ]
  },
  {
   "cell_type": "code",
   "execution_count": 13,
   "metadata": {},
   "outputs": [],
   "source": [
    "# # print(rates[:10])\n",
    "# print(avgReadPercentage[:10])"
   ]
  },
  {
   "cell_type": "code",
   "execution_count": 14,
   "metadata": {},
   "outputs": [
    {
     "data": {
      "image/png": "[encoded data removed]",
      "text/plain": [
       "<Figure size 576x432 with 1 Axes>"
      ]
     },
     "metadata": {
      "needs_background": "light"
     },
     "output_type": "display_data"
    }
   ],
   "source": [
    "f = plt.figure(figsize=(8,6))\n",
    "ax = plt.subplot(111)\n",
    "ax.plot(readPercentagesTens, rates)\n",
    "\n",
    "# ax.set_xticks(np.arange(10, 29+1, 1.0))\n",
    "# ax.set_yticks(np.arange(0, maxVal, 5.0))\n",
    "ax.tick_params(axis='x', labelsize=18)\n",
    "ax.tick_params(axis='y', labelsize=18)\n",
    "ax.set_xlabel(\"Percentage of read requests\", fontsize=18)\n",
    "ax.set_ylabel(\"Operations per second\", fontsize=18)\n",
    "# ax.set_xlim()\n",
    "# ax.set_ylim([0, 2000])\n",
    "ax.set_title(\"Mean rate\")\n",
    "f.tight_layout()"
   ]
  },
  {
   "cell_type": "code",
   "execution_count": 15,
   "metadata": {},
   "outputs": [],
   "source": [
    "# f = plt.figure(figsize=(8,6))\n",
    "# ax = plt.subplot(111)\n",
    "# ax.plot(readPercentagesTens, medianRate)\n",
    "\n",
    "# # ax.set_xticks(np.arange(10, 29+1, 1.0))\n",
    "# # ax.set_yticks(np.arange(0, maxVal, 5.0))\n",
    "# ax.tick_params(axis='x', labelsize=18)\n",
    "# ax.tick_params(axis='y', labelsize=18)\n",
    "# ax.set_xlabel(\"Percentage of read requests\", fontsize=18)\n",
    "# ax.set_ylabel(\"Operations per second\", fontsize=18)\n",
    "# ax.set_title(\"Median rate\")\n",
    "# # ax.set_xlim()\n",
    "# # ax.set_ylim([0, 2000])\n",
    "# f.tight_layout()"
   ]
  },
  {
   "cell_type": "code",
   "execution_count": 19,
   "metadata": {},
   "outputs": [
    {
     "data": {
      "text/plain": [
       "[[0.205559035, 10532.254152681735],\n",
       " [0.405777175, 11537.416140215868],\n",
       " [0.607582349, 12145.377402464419],\n",
       " [0.805824197, 12076.158612080735],\n",
       " [1.00552164, 11772.809729967348],\n",
       " [1.205580981, 10356.927047960235],\n",
       " [1.405541529, 11772.322208278805],\n",
       " [1.605534199, 12595.461623668507],\n",
       " [1.807836122, 10741.370955727396],\n",
       " [2.005531179, 12144.967286663115],\n",
       " [2.207427167, 11169.117436845749],\n",
       " [2.405529737, 10858.011584604885],\n",
       " [2.607833158, 11982.002024572783],\n",
       " [2.80771013, 11021.779937710882],\n",
       " [3.005535807, 12399.805915993402]]"
      ]
     },
     "execution_count": 19,
     "metadata": {},
     "output_type": "execute_result"
    }
   ],
   "source": [
    "\n",
    "a = utils.general_latency_read(outputDir+\"/0-READ_timings.dat\")\n",
    "b = utils.general_latency_read(outputDir+\"/READ.dat\")\n",
    "b"
   ]
  },
  {
   "cell_type": "code",
   "execution_count": 4,
   "metadata": {
    "tags": []
   },
   "outputs": [
    {
     "name": "stdout",
     "output_type": "stream",
     "text": [
      "client-0 [[0.004583746, 0.004946299], [0.005020967, 0.005469014], [0.005482086, 0.005761663], [0.005775578, 0.006069897], [0.006083757, 0.006366178], [0.006381086, 0.006653423], [0.006664006, 0.006917844], [0.006930878, 0.007187316], [0.007195199, 0.007458176], [0.007467912, 0.007734802]]\n",
      "client-1 [[0.004477289, 0.00484067], [0.004951971, 0.005388568], [0.005405128, 0.005739109], [0.005753278, 0.00607002], [0.006083767, 0.006367416], [0.006377684, 0.006646304], [0.006660659, 0.006916746], [0.006931366, 0.007169718], [0.007191506, 0.007440497], [0.007461871, 0.007710955]]\n",
      "client-2 [[0.004671629, 0.00499367], [0.005024009, 0.005491982], [0.005506767, 0.00585907], [0.005895939, 0.00617639], [0.006186971, 0.006441137], [0.006451356, 0.006690952], [0.006707173, 0.006963246], [0.006972503, 0.007216147], [0.007229665, 0.007480493], [0.007494133, 0.007746645]]\n"
     ]
    }
   ],
   "source": [
    "# outputDir = \"./results\"\n",
    "read_latency = utils.get_latency_data(\"READ\")\n",
    "# print(read_latency)\n",
    "print(\"client-0\", read_latency[0][0:10])\n",
    "print(\"client-1\", read_latency[1][0:10])\n",
    "print(\"client-2\", read_latency[2][0:10])"
   ]
  },
  {
   "cell_type": "code",
   "execution_count": 5,
   "metadata": {},
   "outputs": [
    {
     "name": "stdout",
     "output_type": "stream",
     "text": [
      "{2: 0.0002571204023945859, 0: 0.00025635529542314205, 1: 0.00025623726648232967}\n"
     ]
    }
   ],
   "source": [
    "read_latency_avg_per_client = utils.avg_latency_per_client(read_latency)\n",
    "print(read_latency_avg_per_client)"
   ]
  },
  {
   "cell_type": "code",
   "execution_count": 6,
   "metadata": {},
   "outputs": [
    {
     "name": "stdout",
     "output_type": "stream",
     "text": [
      "Read Latency in Second: 0.0002565709881000192\n"
     ]
    }
   ],
   "source": [
    "read_latency_avg = utils.avg_latency(read_latency_avg_per_client)\n",
    "print(\"Read Latency in Second:\", read_latency_avg)"
   ]
  },
  {
   "cell_type": "code",
   "execution_count": 44,
   "metadata": {},
   "outputs": [
    {
     "name": "stdout",
     "output_type": "stream",
     "text": [
      "[(0.205559035, 10532.254152681735), (0.405777175, 11537.416140215868), (0.607582349, 12145.377402464419), (0.805824197, 12076.158612080735), (1.00552164, 11772.809729967348), (1.205580981, 10356.927047960235), (1.405541529, 11772.322208278805), (1.605534199, 12595.461623668507), (1.807836122, 10741.370955727396), (2.005531179, 12144.967286663115), (2.207427167, 11169.117436845749), (2.405529737, 10858.011584604885), (2.607833158, 11982.002024572783), (2.80771013, 11021.779937710882), (3.005535807, 12399.805915993402)]\n",
      "[(0.205559035, 10532.254152681735), (0.405777175, 11537.416140215868), (0.607582349, 12145.377402464419), (0.805824197, 12076.158612080735), (1.00552164, 11772.809729967348), (1.205580981, 10356.927047960235), (1.405541529, 11772.322208278805), (1.605534199, 12595.461623668507), (1.807836122, 10741.370955727396), (2.005531179, 12144.967286663115)]\n"
     ]
    }
   ],
   "source": [
    "read_rate = utils.get_rate_data(\"READ\")\n",
    "print(read_rate[0:10])"
   ]
  },
  {
   "cell_type": "code",
   "execution_count": 11,
   "metadata": {},
   "outputs": [
    {
     "name": "stdout",
     "output_type": "stream",
     "text": [
      "Read Operations Per Second: 2053.2379929920735\n"
     ]
    }
   ],
   "source": [
    "read_rate_avg = utils.avg_rate(read_rate)\n",
    "print(\"Read Operations Per Second:\", read_rate_avg)"
   ]
  },
  {
   "cell_type": "markdown",
   "metadata": {},
   "source": [
    "## Mix read and write"
   ]
  },
  {
   "cell_type": "code",
   "execution_count": null,
   "metadata": {},
   "outputs": [],
   "source": []
  },
  {
   "cell_type": "code",
   "execution_count": null,
   "metadata": {},
   "outputs": [],
   "source": []
  },
  {
   "cell_type": "code",
   "execution_count": null,
   "metadata": {},
   "outputs": [],
   "source": []
  },
  {
   "cell_type": "code",
   "execution_count": null,
   "metadata": {},
   "outputs": [],
   "source": []
  },
  {
   "cell_type": "code",
   "execution_count": null,
   "metadata": {},
   "outputs": [],
   "source": []
  },
  {
   "cell_type": "code",
   "execution_count": null,
   "metadata": {},
   "outputs": [],
   "source": []
  }
 ],
 "metadata": {
  "kernelspec": {
   "display_name": "Python 3",
   "language": "python",
   "name": "python3"
  },
  "language_info": {
   "codemirror_mode": {
    "name": "ipython",
    "version": 3
   },
   "file_extension": ".py",
   "mimetype": "text/x-python",
   "name": "python",
   "nbconvert_exporter": "python",
   "pygments_lexer": "ipython3",
   "version": "3.8.5"
  }
 },
 "nbformat": 4,
 "nbformat_minor": 2
}
