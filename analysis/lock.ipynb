{
 "metadata": {
  "language_info": {
   "codemirror_mode": {
    "name": "ipython",
    "version": 3
   },
   "file_extension": ".py",
   "mimetype": "text/x-python",
   "name": "python",
   "nbconvert_exporter": "python",
   "pygments_lexer": "ipython3",
   "version": "3.8.8"
  },
  "orig_nbformat": 2,
  "kernelspec": {
   "name": "python388jvsc74a57bd0f99c8474cd28273401c8efd6b5d15d148fc9d743db287ffc20b70f716d8cbf21",
   "display_name": "Python 3.8.8 64-bit ('zkPython': conda)"
  }
 },
 "nbformat": 4,
 "nbformat_minor": 2,
 "cells": [
  {
   "cell_type": "code",
   "execution_count": 1,
   "metadata": {},
   "outputs": [],
   "source": [
    "from utils import *\n",
    "import matplotlib.pyplot as plt"
   ]
  },
  {
   "cell_type": "code",
   "execution_count": 2,
   "metadata": {},
   "outputs": [],
   "source": [
    "data_paths = ['../results/AR-30/AR.dat']\n",
    "data = None\n",
    "stat = None\n",
    "for path in data_paths:\n",
    "    data, stat = get_data(path)"
   ]
  },
  {
   "cell_type": "code",
   "execution_count": 3,
   "metadata": {},
   "outputs": [
    {
     "output_type": "stream",
     "name": "stdout",
     "text": [
      "{'#total-acquire-release:': 5857.0}\n"
     ]
    }
   ],
   "source": [
    "print(stat)"
   ]
  },
  {
   "cell_type": "code",
   "execution_count": 4,
   "metadata": {},
   "outputs": [],
   "source": [
    "avg = avg_rate(data, 0)"
   ]
  },
  {
   "cell_type": "code",
   "execution_count": 7,
   "metadata": {},
   "outputs": [
    {
     "output_type": "stream",
     "name": "stdout",
     "text": [
      "Average RW: 16163.065063960183\n"
     ]
    }
   ],
   "source": [
    "print(\"Average RW:\", avg)"
   ]
  },
  {
   "cell_type": "code",
   "execution_count": 14,
   "metadata": {},
   "outputs": [
    {
     "output_type": "stream",
     "name": "stdout",
     "text": [
      "11714\n390.46666666666664\n0.02415805646641506\n82.78811678333618\n"
     ]
    }
   ],
   "source": [
    "print(5857 * 2)\n",
    "print(5857 * 2 / 30)\n",
    "print(5857 * 2 / 30 / 16163)\n",
    "print(16163*30 / 5857)"
   ]
  },
  {
   "cell_type": "code",
   "execution_count": 1,
   "metadata": {},
   "outputs": [
    {
     "output_type": "execute_result",
     "data": {
      "text/plain": [
       "'\\nwe know we have 5857 pairs of (acquire-release)\\nthen we have 5857 * 2 = 11714 writes in total for 30s\\naverage number of writes per second is 390\\nthe read and write percentage is approximately 97.5%\\nthe implementation is quite inefficient, each aquire-release takes around 83 operations\\n\\nnext I am going to test with the built-in receipt InterProcessMutex, and compared with our implementation\\nI am expecting more overhead in the receipt\\n'"
      ]
     },
     "metadata": {},
     "execution_count": 1
    }
   ],
   "source": [
    "'''\n",
    "we know we have 5857 pairs of (acquire-release)\n",
    "then we have 5857 * 2 = 11714 writes in total for 30s\n",
    "average number of writes per second is 390\n",
    "the read and write percentage is approximately 97.5%\n",
    "the implementation is quite inefficient, each aquire-release takes around 83 operations\n",
    "\n",
    "next I am going to test with the built-in receipt InterProcessMutex, and compared with our implementation\n",
    "I am expecting more overhead in the receipt\n",
    "'''"
   ]
  },
  {
   "cell_type": "code",
   "execution_count": null,
   "metadata": {},
   "outputs": [],
   "source": []
  }
 ]
}