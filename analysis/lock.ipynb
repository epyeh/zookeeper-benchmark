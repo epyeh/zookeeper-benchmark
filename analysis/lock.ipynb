{
 "metadata": {
  "language_info": {
   "codemirror_mode": {
    "name": "ipython",
    "version": 3
   },
   "file_extension": ".py",
   "mimetype": "text/x-python",
   "name": "python",
   "nbconvert_exporter": "python",
   "pygments_lexer": "ipython3",
   "version": "3.8.8"
  },
  "orig_nbformat": 2,
  "kernelspec": {
   "name": "python388jvsc74a57bd0f99c8474cd28273401c8efd6b5d15d148fc9d743db287ffc20b70f716d8cbf21",
   "display_name": "Python 3.8.8 64-bit ('zkPython': conda)"
  }
 },
 "nbformat": 4,
 "nbformat_minor": 2,
 "cells": [
  {
   "source": [
    "# Throughput"
   ],
   "cell_type": "markdown",
   "metadata": {}
  },
  {
   "source": [
    "from utils import *\n",
    "import matplotlib.pyplot as plt"
   ],
   "cell_type": "code",
   "metadata": {},
   "execution_count": 1,
   "outputs": []
  },
  {
   "cell_type": "code",
   "execution_count": 2,
   "metadata": {},
   "outputs": [
    {
     "output_type": "stream",
     "name": "stdout",
     "text": [
      "{'#total-acquire-release:': 5857.0}\n"
     ]
    }
   ],
   "source": [
    "data_paths = ['../results/AR-24-30/AR.dat']\n",
    "data = None\n",
    "stat = None\n",
    "for path in data_paths:\n",
    "    data, stat = get_data(path)\n",
    "print(stat)"
   ]
  },
  {
   "cell_type": "code",
   "execution_count": 3,
   "metadata": {},
   "outputs": [
    {
     "output_type": "stream",
     "name": "stdout",
     "text": [
      "Aerage: 16339.990492330637\nSTD: 1272.526032755494\n"
     ]
    }
   ],
   "source": [
    "avg, std = avg_rate(data, 3)\n",
    "print('Aerage:', avg)\n",
    "print('STD:', std)"
   ]
  },
  {
   "cell_type": "code",
   "execution_count": 4,
   "metadata": {},
   "outputs": [
    {
     "output_type": "stream",
     "name": "stdout",
     "text": [
      "11714\n390.46666666666664\n0.9758419435335849\n82.78811678333618\n"
     ]
    }
   ],
   "source": [
    "print(5857 * 2)\n",
    "print(5857 * 2 / 30)\n",
    "print(1 - 5857 * 2 / 30 / 16163)\n",
    "print(16163*30 / 5857)"
   ]
  },
  {
   "source": [
    "we know we have 5857 pairs of (acquire-release)  \n",
    "then we have 5857 * 2 = 11714 writes in total for 30s  \n",
    "average number of writes per second is 390  \n",
    "the read percentage is approximately 97.5%  \n",
    "the implementation is quite inefficient, each aquire-release takes around 83 operations  \n",
    "\n",
    "next I am going to test with the built-in receipt InterProcessMutex, and compared with our implementation  \n",
    "I am expecting more overhead in the receipt  "
   ],
   "cell_type": "markdown",
   "metadata": {}
  },
  {
   "source": [
    "# Latency"
   ],
   "cell_type": "markdown",
   "metadata": {}
  },
  {
   "cell_type": "code",
   "execution_count": 5,
   "metadata": {},
   "outputs": [
    {
     "output_type": "stream",
     "name": "stdout",
     "text": [
      "dict_keys([18, 22, 12, 23, 4, 21, 7, 20, 6, 2, 15, 11, 10, 16, 13, 3, 9, 14, 1, 19, 8, 17, 0, 5])\n"
     ]
    }
   ],
   "source": [
    "prefix = '../results/AR-24-30/'\n",
    "files = get_latency_files('AR', prefix)\n",
    "data = {}\n",
    "for f in files:\n",
    "    idx = int(f.split('-')[0])\n",
    "    data[idx], _ = get_data(os.path.join(prefix, f))\n",
    "\n",
    "print(data.keys())"
   ]
  },
  {
   "cell_type": "code",
   "execution_count": 6,
   "metadata": {},
   "outputs": [
    {
     "output_type": "stream",
     "name": "stdout",
     "text": [
      "Average AR: 0.12312439654157417\nSTD AR: 0.017987144193201878\n"
     ]
    }
   ],
   "source": [
    "avg, std = avg_latency(data)\n",
    "print('Average AR:', avg)\n",
    "print('STD AR:', std)"
   ]
  },
  {
   "cell_type": "code",
   "execution_count": 7,
   "metadata": {},
   "outputs": [
    {
     "output_type": "stream",
     "name": "stdout",
     "text": [
      "dict_keys([18, 15, 4, 11, 10, 1, 21, 13, 22, 0, 2, 5, 17, 3, 16, 14, 6, 20, 12, 8, 19, 23, 7, 9])\n"
     ]
    }
   ],
   "source": [
    "prefix = '../results/MUTEX-24-30/'\n",
    "files = get_latency_files('MUTEX', prefix)\n",
    "data = {}\n",
    "for f in files:\n",
    "    idx = int(f.split('-')[0])\n",
    "    data[idx], _ = get_data(os.path.join(prefix, f))\n",
    "\n",
    "print(data.keys())"
   ]
  },
  {
   "cell_type": "code",
   "execution_count": 8,
   "metadata": {},
   "outputs": [
    {
     "output_type": "stream",
     "name": "stdout",
     "text": [
      "Average MUTEX: 0.08123524992900606\nSTD MUTEX: 0.007262383371640504\n"
     ]
    }
   ],
   "source": [
    "avg, std = avg_latency(data)\n",
    "print('Average MUTEX:', avg)\n",
    "print('STD MUTEX:', std)"
   ]
  },
  {
   "cell_type": "code",
   "execution_count": null,
   "metadata": {},
   "outputs": [],
   "source": []
  }
 ]
}