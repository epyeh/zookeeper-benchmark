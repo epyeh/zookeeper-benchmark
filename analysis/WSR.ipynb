{
 "metadata": {
  "language_info": {
   "codemirror_mode": {
    "name": "ipython",
    "version": 3
   },
   "file_extension": ".py",
   "mimetype": "text/x-python",
   "name": "python",
   "nbconvert_exporter": "python",
   "pygments_lexer": "ipython3",
   "version": "3.8.8"
  },
  "orig_nbformat": 2,
  "kernelspec": {
   "name": "python388jvsc74a57bd0f99c8474cd28273401c8efd6b5d15d148fc9d743db287ffc20b70f716d8cbf21",
   "display_name": "Python 3.8.8 64-bit ('zkPython': conda)"
  }
 },
 "nbformat": 4,
 "nbformat_minor": 2,
 "cells": [
  {
   "source": [
    "# Throughput"
   ],
   "cell_type": "markdown",
   "metadata": {}
  },
  {
   "cell_type": "code",
   "execution_count": 1,
   "metadata": {},
   "outputs": [],
   "source": [
    "from utils import *\n",
    "import matplotlib.pyplot as plt"
   ]
  },
  {
   "cell_type": "code",
   "execution_count": 2,
   "metadata": {},
   "outputs": [],
   "source": [
    "data_paths = ['../results/WSR-24-30/WRITESYNCREAD.dat']\n",
    "data = None\n",
    "stat = None\n",
    "for path in data_paths:\n",
    "    data, stat = get_data(path)"
   ]
  },
  {
   "cell_type": "code",
   "execution_count": 3,
   "metadata": {},
   "outputs": [
    {
     "output_type": "stream",
     "name": "stdout",
     "text": [
      "Average WSR: 5192.69960600676\nSTD WSR: 245.4423526570999\n"
     ]
    }
   ],
   "source": [
    "avg, std = avg_rate(data, 3)\n",
    "print('Average WSR:', avg)\n",
    "print('STD WSR:', std)"
   ]
  },
  {
   "cell_type": "code",
   "execution_count": 4,
   "metadata": {},
   "outputs": [],
   "source": [
    "data_paths = ['../results/WSR-Contention-24-30/WRITESYNCREAD.dat']\n",
    "data = None\n",
    "stat = None\n",
    "for path in data_paths:\n",
    "    data, stat = get_data(path)"
   ]
  },
  {
   "cell_type": "code",
   "execution_count": 5,
   "metadata": {},
   "outputs": [
    {
     "output_type": "stream",
     "name": "stdout",
     "text": [
      "Average WSR: 5068.694748442665\nSTD WSR: 619.2467422597597\n"
     ]
    }
   ],
   "source": [
    "avg, std = avg_rate(data, 3)\n",
    "print('Average WSR:', avg)\n",
    "print('STD WSR:', std)"
   ]
  },
  {
   "source": [
    "# Latency"
   ],
   "cell_type": "markdown",
   "metadata": {}
  },
  {
   "cell_type": "code",
   "execution_count": 8,
   "metadata": {
    "tags": []
   },
   "outputs": [
    {
     "output_type": "stream",
     "name": "stdout",
     "text": [
      "dict_keys([5, 15, 4, 19, 14, 9, 8, 23, 18, 12, 22, 16, 17, 20, 10, 6, 2, 21, 1, 7, 11, 13, 0, 3])\n"
     ]
    }
   ],
   "source": [
    "prefix = '../results/WSR-24-30/'\n",
    "files = get_latency_files('WRITESYNCREAD', prefix)\n",
    "data = {}\n",
    "for f in files:\n",
    "    idx = int(f.split('-')[0])\n",
    "    data[idx], _ = get_data(os.path.join(prefix, f))\n",
    "\n",
    "print(data.keys())"
   ]
  },
  {
   "cell_type": "code",
   "execution_count": 9,
   "metadata": {},
   "outputs": [
    {
     "output_type": "stream",
     "name": "stdout",
     "text": [
      "Average WSR: 0.009284072897474916\nSTD WSR: 0.0020912848857143444\n"
     ]
    }
   ],
   "source": [
    "avg, std = avg_latency(data)\n",
    "print('Average WSR:', avg)\n",
    "print('STD WSR:', std)"
   ]
  },
  {
   "cell_type": "code",
   "execution_count": 10,
   "metadata": {},
   "outputs": [
    {
     "output_type": "stream",
     "name": "stdout",
     "text": [
      "dict_keys([25, 5, 28, 15, 4, 19, 14, 9, 8, 23, 18, 12, 22, 16, 29, 17, 20, 10, 6, 2, 21, 1, 7, 11, 24, 13, 27, 0, 26, 3])\n"
     ]
    }
   ],
   "source": [
    "prefix = '../results/WSR-Contention-24-30/'\n",
    "files = get_latency_files('WRITESYNCREAD', prefix)\n",
    "data = {}\n",
    "for f in files:\n",
    "    idx = int(f.split('-')[0])\n",
    "    data[idx], _ = get_data(os.path.join(prefix, f))\n",
    "\n",
    "print(data.keys())"
   ]
  },
  {
   "cell_type": "code",
   "execution_count": 11,
   "metadata": {},
   "outputs": [
    {
     "output_type": "stream",
     "name": "stdout",
     "text": [
      "Average WSR: 0.010296491943389316\nSTD WSR: 0.0036746485015700706\n"
     ]
    }
   ],
   "source": [
    "avg, std = avg_latency(data)\n",
    "print('Average WSR:', avg)\n",
    "print('STD WSR:', std)"
   ]
  },
  {
   "cell_type": "code",
   "execution_count": null,
   "metadata": {},
   "outputs": [],
   "source": []
  }
 ]
}