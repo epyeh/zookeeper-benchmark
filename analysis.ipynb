{
 "metadata": {
  "language_info": {
   "codemirror_mode": {
    "name": "ipython",
    "version": 3
   },
   "file_extension": ".py",
   "mimetype": "text/x-python",
   "name": "python",
   "nbconvert_exporter": "python",
   "pygments_lexer": "ipython3",
   "version": "3.8.8"
  },
  "orig_nbformat": 2,
  "kernelspec": {
   "name": "python388jvsc74a57bd0cc0c86a18a0a0c885bf6dc5968d530ac5cba1c208c10a1866f40d7a321af899a",
   "display_name": "Python 3.8.8 64-bit ('zkPython')"
  }
 },
 "nbformat": 4,
 "nbformat_minor": 2,
 "cells": [
  {
   "cell_type": "code",
   "execution_count": 1,
   "metadata": {},
   "outputs": [],
   "source": [
    "from utils import *"
   ]
  },
  {
   "cell_type": "code",
   "execution_count": 2,
   "metadata": {
    "tags": []
   },
   "outputs": [
    {
     "output_type": "stream",
     "name": "stdout",
     "text": [
      "client-0 [[0.195092726, 1.200556346], [0.202645305, 0.208657763], [0.208687921, 0.211829931], [0.211860173, 0.213075708], [0.213109731, 0.216185357], [0.216213435, 0.217632891], [0.217660236, 0.221058826], [0.221084818, 0.22351656], [0.223543261, 0.226581275], [0.226609211, 0.232711889]]\nclient-1 [[1.215473398, 1.222959061], [1.222978852, 1.225962012], [1.225968729, 1.230031203], [1.230038488, 1.232615051], [1.232621916, 1.234564741], [1.234570874, 1.238139038], [1.238145907, 1.245709525], [1.245716528, 1.248447737], [1.248454563, 1.250655904], [1.250662944, 1.254433537]]\nclient-2 [[0.1891382, 0.208662651], [0.208687848, 0.213098264], [0.213114631, 0.215621925], [0.215665439, 0.217838316], [0.217863136, 0.220384928], [0.22041104, 0.22245383], [0.222482231, 0.225560535], [0.2255868, 0.227906066], [0.227931621, 0.23118303], [0.231208389, 0.233419617]]\n"
     ]
    }
   ],
   "source": [
    "read_latency = get_latency_data(\"READ\")\n",
    "print(\"client-0\", read_latency[0][0:10])\n",
    "print(\"client-1\", read_latency[1][0:10])\n",
    "print(\"client-2\", read_latency[2][0:10])"
   ]
  },
  {
   "cell_type": "code",
   "execution_count": 3,
   "metadata": {},
   "outputs": [
    {
     "output_type": "stream",
     "name": "stdout",
     "text": [
      "{0: 0.001195391056672024, 1: 0.0006652733874137021, 2: 0.0011098837808510653}\n"
     ]
    }
   ],
   "source": [
    "read_latency_avg_per_client = avg_latency_per_client(read_latency, filter=True)\n",
    "print(read_latency_avg_per_client)\n",
    "# No Filtering {0: 0.0015988736717557233, 1: 0.0007757902972128163, 2: 0.0012394181232306424}\n",
    "# With Filtering {0: 0.001195391056672024, 1: 0.0006652733874137021, 2: 0.0011098837808510653}"
   ]
  },
  {
   "cell_type": "code",
   "execution_count": 4,
   "metadata": {},
   "outputs": [
    {
     "output_type": "stream",
     "name": "stdout",
     "text": [
      "Read Latency in Second: 0.0009901827416455972\n"
     ]
    }
   ],
   "source": [
    "read_latency_avg = avg_latency(read_latency_avg_per_client)\n",
    "print(\"Read Latency in Second:\", read_latency_avg)"
   ]
  },
  {
   "cell_type": "code",
   "execution_count": 5,
   "metadata": {},
   "outputs": [
    {
     "output_type": "stream",
     "name": "stdout",
     "text": [
      "[(0.311634526, 311.2620454641152), (0.511829946, 1078.945762095856), (0.711956007, 1534.0330912724055), (0.915334194, 1470.1674963795406), (1.111464152, 1702.9524882680087), (1.311584546, 1649.0073470472978), (1.511831018, 1613.012188299627), (1.711946443, 1998.846415762303), (1.912071925, 2268.576672310026), (2.112219942, 2203.369319417239)]\n"
     ]
    }
   ],
   "source": [
    "read_rate = get_rate_data(\"READ\")\n",
    "print(read_rate[0:10])"
   ]
  },
  {
   "cell_type": "code",
   "execution_count": 6,
   "metadata": {},
   "outputs": [
    {
     "output_type": "stream",
     "name": "stdout",
     "text": [
      "(10, 2) 2.112219942\n0.19913245499999999 440.99999999999994\n0.39927373200000016 989.0000000000005\n0.599400427 1496.0\n0.799532782 2056.0\n0.999686257 2649.0\n1.1998063070000002 3125.0000000000005\n1.399925288 3611.9999999999995\n1.599037677 4149.0\n1.7991992970000004 4708.000000000001\n1.9993346019999998 5240.999999999999\nRead Operations Per Second: 2621.372127885575\n"
     ]
    }
   ],
   "source": [
    "read_rate_avg = avg_rate(read_rate, filter=10)\n",
    "print(\"Read Operations Per Second:\", read_rate_avg)"
   ]
  },
  {
   "cell_type": "code",
   "execution_count": 7,
   "metadata": {},
   "outputs": [
    {
     "output_type": "stream",
     "name": "stdout",
     "text": [
      "['totalTime', '3000']\n['interval', '200']\n['totalOperations', '20000']\n['lowerbound', '8000']\n['sync', 'true']\n['server.1', '127.0.0.1:2181']\n['server.2', '127.0.0.1:2182']\n['server.3', '127.0.0.1:2183']\n"
     ]
    }
   ],
   "source": [
    "config = get_config()"
   ]
  },
  {
   "cell_type": "code",
   "execution_count": null,
   "metadata": {},
   "outputs": [],
   "source": []
  }
 ]
}